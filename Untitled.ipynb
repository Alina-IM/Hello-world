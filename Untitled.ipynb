{
  "nbformat": 4,
  "nbformat_minor": 0,
  "metadata": {
    "colab": {
      "name": "Занятие1.ipynb",
      "provenance": [],
      "authorship_tag": "ABX9TyOZ0PvpPYWq+HYVThQX/IHY",
      "include_colab_link": true
    },
    "kernelspec": {
      "name": "python3",
      "display_name": "Python 3"
    }
  },
  "cells": [
    {
      "cell_type": "markdown",
      "metadata": {
        "id": "view-in-github",
        "colab_type": "text"
      },
      "source": [
        "<a href=\"https://colab.research.google.com/github/Alina-IM/Hello-world/blob/main/%D0%97%D0%B0%D0%BD%D1%8F%D1%82%D0%B8%D0%B51.ipynb\" target=\"_parent\"><img src=\"https://colab.research.google.com/assets/colab-badge.svg\" alt=\"Open In Colab\"/></a>"
      ]
    },
    {
      "cell_type": "markdown",
      "metadata": {
        "id": "nXJfq2BikjnF"
      },
      "source": [
        "АФанасьева Алина Ивановна, КИ19-22Б, 04.05.2001"
      ]
    },
    {
      "cell_type": "code",
      "metadata": {
        "id": "ka9sLBy2k1uR"
      },
      "source": [
        "#@title Form 1\r\n",
        "#@markdown --- \r\n",
        "name='Alina' #@param{type:\"string\"}\r\n",
        "group=\"KI19-22\" #@param[\"KI19-20\",\"KI19-21\",\"KI19-22\",\"KI19-23\",\"KI19-24\"] \r\n",
        "print(group)\r\n",
        "date=\"2021-02-16\" #@param{type:\"date\"}\r\n",
        "#@markdown --- \r\n",
        "#@title Напечатать числовые значения\r\n",
        "checked=True #@param{type:\"boolean\"}\r\n",
        "age=25 #@param{type:\"integer\"}\r\n",
        "year_study=2 #@param{type:\"slider\",min:1,max:6,step:1}\r\n",
        "avelage_study=2 #@param{type:\"slider\",min:1, max:6, step:0,5}\r\n",
        "#@markdown Taibles\r\n",
        "#@datesat \r\n",
        "import pandas as pd\r\n",
        "if\r\n",
        "data=pd.read_csv(\"/content/sample_data/california_housing_test.csv\")\r\n",
        "else \r\n",
        "data=pd.read_csv(\"\")"
      ],
      "execution_count": null,
      "outputs": []
    }
  ]
}
